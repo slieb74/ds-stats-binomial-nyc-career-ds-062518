{
 "cells": [
  {
   "cell_type": "markdown",
   "metadata": {},
   "source": [
    "# Binomial Distributions\n",
    "\n",
    "## SWBAT:\n",
    "\n",
    "1. Understand and describe a binomial distribution as a Probability Mass function \n",
    "2. Evaluate a problem to discuss its fitness for a binomial experiment\n",
    "3. Calculate probability of an event from a binomial distribution\n",
    "4. Evaluate calculations with scipy functions\n",
    "\n",
    "What is a Binomial Distribution?\n",
    "\n",
    "A binomial distribution is simply the probability of a SUCCESS or FAILURE outcome in an experiment or survey that is repeated multiple times. The binomial is a type of distribution that has two possible outcomes (the prefix “bi” means two, or twice). For example, a coin toss has only two possible outcomes: heads or tails and taking a test could have two possible outcomes: pass or fail.\n",
    "\n",
    "The first variable in the binomial formula, n, stands for the number of times the experiment runs. The second variable, $p$, represents the probability of one specific outcome.\n",
    "The binomial distribution formula is:\n",
    "\n",
    "> **$$Pr(X=k)=C(n,k)p^k (1-p)^{n-k}$$**\n",
    "\n",
    "Where:\n",
    "* $n$ = number of trials\n",
    "* $k$ = number of successes\n",
    "* $p$ = probability of success\n",
    "* $1-p$ = probability of failure (often written as $q=1-p$).\n",
    "\n"
   ]
  },
  {
   "cell_type": "markdown",
   "metadata": {},
   "source": [
    "Let's see an example question first, and then learn about the binomial distribution.\n",
    "\n",
    "Example 1: Two players are playing baseball as **Player A** and **Player B**. \n",
    "* Player A takes an average of 11 shots per game, and has an average success rate of 72% \n",
    "* Player B takes an average of 15 shots per game, but has an average success rate of 48%\n",
    "\n",
    "Question 1: What's the probability that Player A makes 6 shots in an average game?\n",
    "\n",
    "Question 2: What's the probability that Player B makes 6 shots in an average game?\n",
    "\n",
    "\n",
    "\n",
    "\n"
   ]
  },
  {
   "cell_type": "markdown",
   "metadata": {},
   "source": [
    "Check for Binomial Distribution\n",
    "\n",
    "We can identify a problem as a binomial experiment if the following conditions are successfully met:\n",
    "\n",
    "1. The process consists of a sequence of trials, where $n$ is the number of trials\n",
    "2. Only two mutually exclusive results are expected for each trial (A success and a failure)\n",
    "3. If the probability of a success is $p$ then the probability of failure is $q=1-p$ (because of two mutually exclusive states)\n",
    "4. All of the trials are done independently\n",
    "\n",
    "We can see that the example given above meets all these considtions and hence satisfies the binomial assumption. \n"
   ]
  },
  {
   "cell_type": "markdown",
   "metadata": {},
   "source": [
    "* This means that to get exactly $k$ successes in $n$ trials, we want exactly $k$ successes: \n",
    "\n",
    "$$p^k$$\n",
    "\n",
    "* We also want $(n-k)$ failures:\n",
    "\n",
    "$$(1-p)^{n-k}$$\n",
    "\n",
    "* There are $$C(n,k)$$ ways of putting $k$ successes in $n$ trials.\n",
    "\n",
    "Note: $C(n,k)$ refers to the number of possible combinations of $n$ things taken $k$ at a time.\n",
    "\n",
    "You have seen this in the combinatorics section! This is equal to: $$C(n,k) =  \\frac{n!}{k!(n-k)!}$$"
   ]
  },
  {
   "cell_type": "markdown",
   "metadata": {},
   "source": [
    "Let's go back to example problem and see how this works. "
   ]
  },
  {
   "cell_type": "code",
   "execution_count": 25,
   "metadata": {},
   "outputs": [],
   "source": [
    "# The number of combinations of n things taken k at a time\n",
    "# This is often expressed as “n choose k”\n",
    "import numpy as np\n",
    "from scipy.special import comb\n",
    "import matplotlib.pyplot as plt"
   ]
  },
  {
   "cell_type": "code",
   "execution_count": 30,
   "metadata": {},
   "outputs": [
    {
     "data": {
      "text/plain": [
       "'Expected output: the probability of player B making 6 shots in an average game is 17.0%'"
      ]
     },
     "execution_count": 30,
     "metadata": {},
     "output_type": "execute_result"
    }
   ],
   "source": [
    "def calc_prob(player, p, n, k):\n",
    "\n",
    "    # Calculate the number of possible combinations of n shots and k expected shots \n",
    "    combs = comb(n,k)\n",
    "\n",
    "    # Now put it together to get the probability using given formula\n",
    "    prob =combs * p**k * ((1-p)**(n-k)) \n",
    "\n",
    "    # Put the answer in percentage form!\n",
    "    prob= round(prob*100,1) \n",
    "    \n",
    "    # Print the result with calculated probability value\n",
    "\n",
    "    return \"\"\"Expected output: the probability of player {} making {} shots in an average game is {}%\"\"\".format(player, k, prob)\n",
    "p_A = .72\n",
    "p_B = .48\n",
    "n_A = 11\n",
    "n_B = 15\n",
    "k = 6\n",
    "\n",
    "# Calculate the probability for player A and B taking 6 shots per game\n",
    "\n",
    "calc_prob('A',p_A, n_A, k)\n",
    "\n",
    "calc_prob('B',p_B, n_B, k)\n",
    "\n",
    "# Expected output: the probability of player A making 6 shots in an average game is 11.1% \n",
    "\n",
    "# Expected output: the probability of player B making 6 shots in an average game is 17.0% "
   ]
  },
  {
   "cell_type": "markdown",
   "metadata": {},
   "source": [
    "So now we know that even though player B is a poor shooter (p_B < p_A), because he takes more shots than player A (n_B > n_A), he will have better chances of making 6 successful shots in a game. \n",
    "\n",
    "We must also consider the higher amount of shots by player B. \n",
    "\n",
    "Will player's A higher probability take a stronger effect if we consider the number of shots?\n",
    "What's the probability of making 9 successful shots a game for either player?\n",
    "\n",
    "Let's use above function with a different value of k = 9 to find this out "
   ]
  },
  {
   "cell_type": "code",
   "execution_count": 23,
   "metadata": {},
   "outputs": [
    {
     "name": "stdout",
     "output_type": "stream",
     "text": [
      "Expected output: the probability of player A making 9 shots in an average game is 22.4%\n",
      "Expected output: the probability of player B making 9 shots in an average game is 13.4%\n"
     ]
    }
   ],
   "source": [
    "# set number of shots = 9 \n",
    "k = 9\n",
    "\n",
    "# Expected output: The probability of player A making 9 shots in an average game is 22.4%\n",
    "print(calc_prob('A',p_A, n_A, k))\n",
    "\n",
    "# Expected output: The probability of player B making 9 shots in an average game is 13.4% \n",
    "print(calc_prob('B',p_B, n_B, k))"
   ]
  },
  {
   "cell_type": "markdown",
   "metadata": {},
   "source": [
    "This shows us that player's A ability level gives better odds of making **exactly** 9 shots. We need to keep in mind that we are asking about the probability of making exactly those amount of shots. \n",
    "\n",
    "This is a different question than \"What is the probability that player A makes at least 9 shots?\""
   ]
  },
  {
   "cell_type": "markdown",
   "metadata": {},
   "source": [
    "### Mean and standard deviation for binomial distribution\n",
    "\n",
    "The mean of a binomial distribution is the average number of successes, and this is equal to total trials multiplied by average success rate.\n",
    "\n",
    "\n",
    "\n",
    "$$\\mu=n*p$$\n"
   ]
  },
  {
   "cell_type": "markdown",
   "metadata": {},
   "source": [
    "The standard deviation of a binomial is:\n",
    "$$\\sigma=\\sqrt{n*q*p}$$"
   ]
  },
  {
   "cell_type": "markdown",
   "metadata": {},
   "source": [
    "#### Question:\n",
    "\n",
    "> What is the average number of shots each player will make in a game, along with standard deviation?"
   ]
  },
  {
   "cell_type": "code",
   "execution_count": 39,
   "metadata": {},
   "outputs": [
    {
     "name": "stdout",
     "output_type": "stream",
     "text": [
      "Expected output: Player A will make an average of 8.0 +/-  1.0 shots per game\n",
      "Expected output: Player B will make an average of 7.0 +/-  2.0 shots per game\n"
     ]
    }
   ],
   "source": [
    "def mean_sd(player, n, p):\n",
    "    mu = n*p\n",
    "    sigma =np.sqrt((n*p*(1-p)))\n",
    "\n",
    "    # command to print output here\n",
    "    output= print('Expected output: Player {} will make an average of {} +/-  {} shots per game'.format(player,np.round(mu),np.round(sigma)))\n",
    "    return output\n",
    "\n",
    "# Expected output: Player A will make an average of 8.0 +/-  1.0 shots per game\n",
    "\n",
    "# Expected output: Player B will make an average of 7.0 +/-  2.0 shots per game\n",
    "\n",
    "mean_sd('A', n_A, p_A)\n",
    "mean_sd('B', n_B, p_B)"
   ]
  },
  {
   "cell_type": "markdown",
   "metadata": {},
   "source": [
    "So we can see that player B expected shots have a larger value of sigma , adding to the uncertainty around player B. "
   ]
  },
  {
   "cell_type": "markdown",
   "metadata": {},
   "source": [
    "Let's confirm our results using scipy's built in binomial distribution function and see if the results compare with our calculations. "
   ]
  },
  {
   "cell_type": "code",
   "execution_count": 44,
   "metadata": {},
   "outputs": [
    {
     "name": "stdout",
     "output_type": "stream",
     "text": [
      "8.0 1.0\n",
      "7.0 2.0\n"
     ]
    }
   ],
   "source": [
    "from scipy.stats import binom\n",
    "\n",
    "# print rounded output for player A and player B\n",
    "# Player A\n",
    "mean,sd= binom.stats(n_A,p_A)\n",
    "print(np.round(mean), np.round(sd**.5))\n",
    "\n",
    "# Player B\n",
    "mean,sd= binom.stats(n_B,p_B) \n",
    "print(np.round(mean), np.round(sd**.5))\n",
    "# the answer should be\n",
    "# 8.0 1.0\n",
    "# 7.0 2.0"
   ]
  },
  {
   "cell_type": "markdown",
   "metadata": {},
   "source": [
    "**NOTE** above values have been rounded to nearest whole number as we can not take a \"decimal\" of a shot. \n",
    "\n",
    "The results from `scipy.binom` confirm our calculations above. "
   ]
  },
  {
   "cell_type": "markdown",
   "metadata": {},
   "source": [
    "Now, let's draw probability mass functions for both player A and player B."
   ]
  },
  {
   "cell_type": "code",
   "execution_count": 45,
   "metadata": {},
   "outputs": [],
   "source": [
    "# Probability Mass Function\n",
    "\n",
    "def draw_pmf(player,n,p):\n",
    "    # Set up n success, remember indexing starts at 0, so use n+1\n",
    "    x = range(n+1)\n",
    "    \n",
    "    # Now create the probability mass function\n",
    "    Y = binom.pmf(x,n,p)\n",
    "    \n",
    "    # plot and label x and y\n",
    "    plt.plot(x,Y,'x')\n",
    "    # set title to 'Binomial Distribution PMF'\n",
    "    plt.title('Binomial Distribution PMF')\n",
    "    # set x label to 'Number of Heads'\n",
    "    plt.xlabel('Number of Heads')\n",
    "    # set y label to 'Probability'\n",
    "    plt.ylabel('Probability')\n",
    "    return None\n",
    "\n",
    "# Use your function to draw the PMF for A"
   ]
  },
  {
   "cell_type": "code",
   "execution_count": null,
   "metadata": {},
   "outputs": [],
   "source": [
    "# repeat above step for player B"
   ]
  },
  {
   "cell_type": "markdown",
   "metadata": {},
   "source": [
    "### Summary \n",
    "\n",
    "In this lesson, we saw how a binomial distribution works and what factors must be ensured in order to satisfy a binomial experiment. We used a simple example along with relevant binomial calculations in python. The results were verified using scipy's built in function. The results were also visualized in order to explain the phenomenon better"
   ]
  }
 ],
 "metadata": {
  "kernelspec": {
   "display_name": "Python 3",
   "language": "python",
   "name": "python3"
  },
  "language_info": {
   "codemirror_mode": {
    "name": "ipython",
    "version": 3
   },
   "file_extension": ".py",
   "mimetype": "text/x-python",
   "name": "python",
   "nbconvert_exporter": "python",
   "pygments_lexer": "ipython3",
   "version": "3.6.6"
  }
 },
 "nbformat": 4,
 "nbformat_minor": 2
}
